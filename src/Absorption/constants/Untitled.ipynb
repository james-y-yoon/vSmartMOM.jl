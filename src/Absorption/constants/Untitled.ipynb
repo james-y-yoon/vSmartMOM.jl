{
 "cells": [
  {
   "cell_type": "code",
   "execution_count": 15,
   "id": "2c0e2cd1-11c9-477a-a5e4-30ad5f6f4174",
   "metadata": {},
   "outputs": [],
   "source": [
    "import xarray as xr\n",
    "import matplotlib.pyplot as plt"
   ]
  },
  {
   "cell_type": "code",
   "execution_count": 16,
   "id": "a9fa41f7-b197-4dc8-852d-b9e7c3487632",
   "metadata": {},
   "outputs": [],
   "source": [
    "test = xr.open_dataset('TIPS_2017.nc')"
   ]
  },
  {
   "cell_type": "code",
   "execution_count": 24,
   "id": "70013a40-e951-4e9c-b740-cb52a7ac34a0",
   "metadata": {},
   "outputs": [
    {
     "name": "stdout",
     "output_type": "stream",
     "text": [
      " 1 = H2O,   2 = CO2,    3 = O3 ,    4 = N2O,    5 = CO,      6 = CH4\n",
      " 7 = O2     8 = NO,     9 = SO2,   10 = NO2,   11 = NH3,    12 = HNO3\n",
      "13 = OH,   14 = HF,    15 = HCl,   16 = HBr,   17 = HI,     18 = ClO,\n",
      "19 = OCS,  20 = H2CO,  21 = HOCl,  22 = N2,    23 = HCN,    24 = CH3Cl\n",
      "25 = H2O2, 26 = C2H2,  27 = C2H6,  28 = PH3,   29 = COF2,   30 = SF6\n",
      "31 = H2S,  32 = HCOOH, 33 = HO2,   no 34,      35 = ClONO2, 36 = NO+\n",
      "37 = HOBr, 38 = C2H4,  39 = CH3OH, 40 = CH3Br, 41 = CH3CN,  no  42\n",
      "43 = C4H2, 44 = HC3N,  45 = H2,    46 = CS,    47 = SO3     48 = C2N2\n",
      "49 = COCl2 50 = SO     51 = CH3F   52 = GeH4   53 = CS2     54 = CH3I\n",
      "55 = NF3   56 = C3H4   57 = CH3    58 = ISOP\n"
     ]
    },
    {
     "name": "stdin",
     "output_type": "stream",
     "text": [
      "enter molecule number: carriage return to stop  57\n"
     ]
    },
    {
     "name": "stdout",
     "output_type": "stream",
     "text": [
      "1=2111\n"
     ]
    },
    {
     "name": "stdin",
     "output_type": "stream",
     "text": [
      "enter isotopologue number:  1\n"
     ]
    },
    {
     "ename": "FileNotFoundError",
     "evalue": "[Errno 2] No such file or directory: 'QTpy/57_1.QTpy'",
     "output_type": "error",
     "traceback": [
      "\u001b[0;31m---------------------------------------------------------------------------\u001b[0m",
      "\u001b[0;31mFileNotFoundError\u001b[0m                         Traceback (most recent call last)",
      "Cell \u001b[0;32mIn[24], line 248\u001b[0m\n\u001b[1;32m    245\u001b[0m file \u001b[38;5;241m=\u001b[39m \u001b[38;5;124m'\u001b[39m\u001b[38;5;124mQTpy/\u001b[39m\u001b[38;5;124m'\u001b[39m\u001b[38;5;241m+\u001b[39mmol\u001b[38;5;241m+\u001b[39m\u001b[38;5;124m'\u001b[39m\u001b[38;5;124m_\u001b[39m\u001b[38;5;124m'\u001b[39m\u001b[38;5;241m+\u001b[39miso\u001b[38;5;241m+\u001b[39m\u001b[38;5;124m'\u001b[39m\u001b[38;5;124m.QTpy\u001b[39m\u001b[38;5;124m'\u001b[39m\n\u001b[1;32m    247\u001b[0m QTdict \u001b[38;5;241m=\u001b[39m {}\n\u001b[0;32m--> 248\u001b[0m \u001b[38;5;28;01mwith\u001b[39;00m \u001b[38;5;28mopen\u001b[39m(file, \u001b[38;5;124m'\u001b[39m\u001b[38;5;124mrb\u001b[39m\u001b[38;5;124m'\u001b[39m) \u001b[38;5;28;01mas\u001b[39;00m handle:\n\u001b[1;32m    249\u001b[0m     QTdict \u001b[38;5;241m=\u001b[39m pickle\u001b[38;5;241m.\u001b[39mloads(handle\u001b[38;5;241m.\u001b[39mread())\n\u001b[1;32m    251\u001b[0m global_ID \u001b[38;5;241m=\u001b[39m \u001b[38;5;241m0\u001b[39m\n",
      "File \u001b[0;32m/opt/anaconda3/envs/pnnl/lib/python3.12/site-packages/IPython/core/interactiveshell.py:324\u001b[0m, in \u001b[0;36m_modified_open\u001b[0;34m(file, *args, **kwargs)\u001b[0m\n\u001b[1;32m    317\u001b[0m \u001b[38;5;28;01mif\u001b[39;00m file \u001b[38;5;129;01min\u001b[39;00m {\u001b[38;5;241m0\u001b[39m, \u001b[38;5;241m1\u001b[39m, \u001b[38;5;241m2\u001b[39m}:\n\u001b[1;32m    318\u001b[0m     \u001b[38;5;28;01mraise\u001b[39;00m \u001b[38;5;167;01mValueError\u001b[39;00m(\n\u001b[1;32m    319\u001b[0m         \u001b[38;5;124mf\u001b[39m\u001b[38;5;124m\"\u001b[39m\u001b[38;5;124mIPython won\u001b[39m\u001b[38;5;124m'\u001b[39m\u001b[38;5;124mt let you open fd=\u001b[39m\u001b[38;5;132;01m{\u001b[39;00mfile\u001b[38;5;132;01m}\u001b[39;00m\u001b[38;5;124m by default \u001b[39m\u001b[38;5;124m\"\u001b[39m\n\u001b[1;32m    320\u001b[0m         \u001b[38;5;124m\"\u001b[39m\u001b[38;5;124mas it is likely to crash IPython. If you know what you are doing, \u001b[39m\u001b[38;5;124m\"\u001b[39m\n\u001b[1;32m    321\u001b[0m         \u001b[38;5;124m\"\u001b[39m\u001b[38;5;124myou can use builtins\u001b[39m\u001b[38;5;124m'\u001b[39m\u001b[38;5;124m open.\u001b[39m\u001b[38;5;124m\"\u001b[39m\n\u001b[1;32m    322\u001b[0m     )\n\u001b[0;32m--> 324\u001b[0m \u001b[38;5;28;01mreturn\u001b[39;00m io_open(file, \u001b[38;5;241m*\u001b[39margs, \u001b[38;5;241m*\u001b[39m\u001b[38;5;241m*\u001b[39mkwargs)\n",
      "\u001b[0;31mFileNotFoundError\u001b[0m: [Errno 2] No such file or directory: 'QTpy/57_1.QTpy'"
     ]
    }
   ],
   "source": []
  },
  {
   "cell_type": "code",
   "execution_count": null,
   "id": "21fd8663-38eb-4cb1-a744-deff1b1400e5",
   "metadata": {},
   "outputs": [],
   "source": []
  }
 ],
 "metadata": {
  "kernelspec": {
   "display_name": "Python 3 (ipykernel)",
   "language": "python",
   "name": "python3"
  },
  "language_info": {
   "codemirror_mode": {
    "name": "ipython",
    "version": 3
   },
   "file_extension": ".py",
   "mimetype": "text/x-python",
   "name": "python",
   "nbconvert_exporter": "python",
   "pygments_lexer": "ipython3",
   "version": "3.12.8"
  }
 },
 "nbformat": 4,
 "nbformat_minor": 5
}
